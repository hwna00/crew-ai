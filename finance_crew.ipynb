{
 "cells": [
  {
   "cell_type": "code",
   "execution_count": 1,
   "metadata": {},
   "outputs": [],
   "source": [
    "from crewai import Crew, Task"
   ]
  },
  {
   "cell_type": "code",
   "execution_count": null,
   "metadata": {},
   "outputs": [],
   "source": [
    "from crewai_tools import tool\n",
    "\n",
    "import yfinance as yf\n",
    "\n",
    "\n",
    "class Tools:\n",
    "    @tool(\"One month stock price history\")\n",
    "    def stock_price(ticker):\n",
    "        \"\"\"\n",
    "        Useful to get a month's worth of stock price data as CSV.\n",
    "        The input of this tool should a ticker, for example AAPL, NET, TSLA etc...\n",
    "        \"\"\"\n",
    "        stock = yf.Ticker(ticker)\n",
    "        return stock.history(period=\"1mo\").to_csv()\n",
    "\n",
    "    @tool(\"Stock news URLs\")\n",
    "    def stock_news(ticker):\n",
    "        \"\"\"\n",
    "        Useful to get URLs of news articles related to a stock.\n",
    "        The input to this tool should be a ticker, for example AAPL, NET\n",
    "        \"\"\"\n",
    "        stock = yf.Ticker(ticker)\n",
    "        return list(map(lambda x: x[\"link\"], stock.news))\n",
    "\n",
    "    @tool(\"Company's income statement\")\n",
    "    def income_stmt(ticker):\n",
    "        \"\"\"\n",
    "        Useful to get the income statement of a stock as CSV.\n",
    "        The input to this tool should be a ticker, for example AAPL, NET\n",
    "        \"\"\"\n",
    "        stock = yf.Ticker(ticker)\n",
    "        return stock.income_stmt.to_csv()\n",
    "\n",
    "    @tool(\"Balance sheet\")\n",
    "    def balance_sheet(ticker):\n",
    "        \"\"\"\n",
    "        Useful to get the balance sheet of a stock as CSV.\n",
    "        The input to this tool should be a ticker, for example AAPL, NET\n",
    "        \"\"\"\n",
    "        stock = yf.Ticker(ticker)\n",
    "        return stock.balance_sheet.to_csv()\n",
    "\n",
    "    @tool(\"Get insider transactions\")\n",
    "    def insider_transactions(ticker):\n",
    "        \"\"\"\n",
    "        Useful to get insider transactions of a stock as CSV.\n",
    "        The input to this tool should be a ticker, for example AAPL, NET\n",
    "        \"\"\"\n",
    "        stock = yf.Ticker(ticker)\n",
    "        return stock.insider_transactions.to_csv()"
   ]
  }
 ],
 "metadata": {
  "kernelspec": {
   "display_name": "env",
   "language": "python",
   "name": "python3"
  },
  "language_info": {
   "codemirror_mode": {
    "name": "ipython",
    "version": 3
   },
   "file_extension": ".py",
   "mimetype": "text/x-python",
   "name": "python",
   "nbconvert_exporter": "python",
   "pygments_lexer": "ipython3",
   "version": "3.11.6"
  }
 },
 "nbformat": 4,
 "nbformat_minor": 2
}
